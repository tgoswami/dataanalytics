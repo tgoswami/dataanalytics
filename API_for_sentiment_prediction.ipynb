{
 "cells": [
  {
   "cell_type": "code",
   "execution_count": null,
   "metadata": {},
   "outputs": [
    {
     "name": "stdout",
     "output_type": "stream",
     "text": [
      " * Serving Flask app \"__main__\" (lazy loading)\n",
      " * Environment: production\n",
      "\u001b[31m   WARNING: This is a development server. Do not use it in a production deployment.\u001b[0m\n",
      "\u001b[2m   Use a production WSGI server instead.\u001b[0m\n",
      " * Debug mode: off\n"
     ]
    },
    {
     "name": "stderr",
     "output_type": "stream",
     "text": [
      " * Running on http://127.0.0.1:5000/ (Press CTRL+C to quit)\n",
      "127.0.0.1 - - [24/Nov/2021 10:58:53] \"\u001b[37mGET /?query=I%20am%20really%20liked%20this%20product,%20it%20is%20awesome HTTP/1.1\u001b[0m\" 200 -\n"
     ]
    },
    {
     "name": "stdout",
     "output_type": "stream",
     "text": [
      "I am really liked this product, it is awesome\n",
      "Sentiment: Positive\n"
     ]
    },
    {
     "name": "stderr",
     "output_type": "stream",
     "text": [
      "127.0.0.1 - - [24/Nov/2021 10:59:19] \"\u001b[37mGET /?query=I%20am%20really%20liked%20this%20product,%20it%20is%20awesome HTTP/1.1\u001b[0m\" 200 -\n"
     ]
    },
    {
     "name": "stdout",
     "output_type": "stream",
     "text": [
      "I am really liked this product, it is awesome\n",
      "Sentiment: Positive\n"
     ]
    },
    {
     "name": "stderr",
     "output_type": "stream",
     "text": [
      "127.0.0.1 - - [24/Nov/2021 10:59:45] \"\u001b[37mGET /?query=i%20don%27t%20this%20product%20at%20all HTTP/1.1\u001b[0m\" 200 -\n"
     ]
    },
    {
     "name": "stdout",
     "output_type": "stream",
     "text": [
      "i don't this product at all\n",
      "Sentiment: Negative\n"
     ]
    }
   ],
   "source": [
    "from flask import Flask\n",
    "from flask_restful import Resource, Api, reqparse, abort\n",
    "from textblob import TextBlob\n",
    "\n",
    "app = Flask(__name__)\n",
    "api = Api(app)\n",
    "\n",
    "# argument parsing\n",
    "parser = reqparse.RequestParser()\n",
    "parser.add_argument('query')\n",
    "\n",
    "class predict_sentiment(Resource):\n",
    "    def get(self):\n",
    "        args = parser.parse_args()\n",
    "        user_query = args['query']\n",
    "        print(user_query)\n",
    "\n",
    "        testimonial = TextBlob(user_query)\n",
    "        prediction = testimonial.sentiment[0]\n",
    "        if prediction <= 0.5:\n",
    "            pred_text = 'Negative'\n",
    "        else:\n",
    "            pred_text = 'Positive'\n",
    "        print('Sentiment: ' + pred_text)\n",
    "        return {'query': user_query, 'Sentiment': pred_text}\n",
    "\n",
    "api.add_resource(predict_sentiment, '/')\n",
    "\n",
    "if __name__ == '__main__':\n",
    "    app.run()\n"
   ]
  },
  {
   "cell_type": "code",
   "execution_count": null,
   "metadata": {},
   "outputs": [],
   "source": [
    "#http://127.0.0.1:5000/?query=I am really liked this product, it is awesome"
   ]
  }
 ],
 "metadata": {
  "kernelspec": {
   "display_name": "Python 3",
   "language": "python",
   "name": "python3"
  },
  "language_info": {
   "codemirror_mode": {
    "name": "ipython",
    "version": 3
   },
   "file_extension": ".py",
   "mimetype": "text/x-python",
   "name": "python",
   "nbconvert_exporter": "python",
   "pygments_lexer": "ipython3",
   "version": "3.8.5"
  }
 },
 "nbformat": 4,
 "nbformat_minor": 2
}
